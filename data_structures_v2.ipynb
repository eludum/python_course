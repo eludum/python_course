{
  "cells": [
    {
      "cell_type": "markdown",
      "metadata": {
        "id": "0mnOHaZpZ1CU"
      },
      "source": [
        "## Use lists and tuples"
      ]
    },
    {
      "cell_type": "markdown",
      "metadata": {
        "id": "aCBZvOZn3V6D"
      },
      "source": [
        "### Sequences\n",
        "Lists, tuples, and strings are all Python sequences, and share many of the same methods."
      ]
    },
    {
      "cell_type": "markdown",
      "metadata": {
        "id": "MgQzM2FbzhpW"
      },
      "source": [
        "### Creating an empty list"
      ]
    },
    {
      "cell_type": "code",
      "execution_count": null,
      "metadata": {
        "colab": {
          "base_uri": "https://localhost:8080/",
          "height": 34
        },
        "id": "1gUdm3jfzlCB",
        "outputId": "a84844d5-a2f6-43f5-f587-8e00535ea56f"
      },
      "outputs": [
        {
          "data": {
            "text/plain": [
              "[]"
            ]
          },
          "execution_count": 4,
          "metadata": {
            "tags": []
          },
          "output_type": "execute_result"
        }
      ],
      "source": [
        "empty = []\n",
        "empty"
      ]
    },
    {
      "cell_type": "markdown",
      "metadata": {
        "id": "fLx7Rtstz3Pn"
      },
      "source": [
        "### Using square brackets with initial values"
      ]
    },
    {
      "cell_type": "code",
      "execution_count": null,
      "metadata": {
        "colab": {
          "base_uri": "https://localhost:8080/",
          "height": 34
        },
        "id": "X6_VTC9moTAM",
        "outputId": "c218cea9-dbf7-4b5d-d8b2-4915070562a0"
      },
      "outputs": [
        {
          "data": {
            "text/plain": [
              "[1, 2, 3]"
            ]
          },
          "execution_count": 5,
          "metadata": {
            "tags": []
          },
          "output_type": "execute_result"
        }
      ],
      "source": [
        "numbers = [1, 2, 3]\n",
        "numbers\n"
      ]
    },
    {
      "cell_type": "markdown",
      "metadata": {
        "id": "RN5dAwcv4EwQ"
      },
      "source": [
        "### Casting an iterable\n",
        "Any iterable can be cast to a list"
      ]
    },
    {
      "cell_type": "code",
      "execution_count": null,
      "metadata": {
        "colab": {
          "base_uri": "https://localhost:8080/",
          "height": 34
        },
        "id": "IWCOdiiJ4Iv5",
        "outputId": "63d56640-a0c9-4f64-8882-b61950a8a059"
      },
      "outputs": [
        {
          "data": {
            "text/plain": [
              "[0, 1, 2, 3, 4, 5, 6, 7, 8, 9]"
            ]
          },
          "execution_count": 6,
          "metadata": {
            "tags": []
          },
          "output_type": "execute_result"
        }
      ],
      "source": [
        "numbers = list(range(10))\n",
        "numbers"
      ]
    },
    {
      "cell_type": "markdown",
      "metadata": {
        "id": "m7FQdEVcAMJl"
      },
      "source": [
        "### Creating using multiplication"
      ]
    },
    {
      "cell_type": "code",
      "execution_count": null,
      "metadata": {
        "colab": {
          "base_uri": "https://localhost:8080/",
          "height": 34
        },
        "id": "lanCHsNZATqK",
        "outputId": "afdc49d3-928d-4854-9ff4-4ef2709d10d7"
      },
      "outputs": [
        {
          "data": {
            "text/plain": [
              "[0, 0, 0, 0, 0, 0, 0, 0, 0, 0]"
            ]
          },
          "execution_count": 7,
          "metadata": {
            "tags": []
          },
          "output_type": "execute_result"
        }
      ],
      "source": [
        "num_players = 10\n",
        "scores = [0] * num_players\n",
        "scores"
      ]
    },
    {
      "cell_type": "markdown",
      "metadata": {
        "id": "h9l7kUOC43iL"
      },
      "source": [
        "### Mixing data types\n",
        "Lists can contain multple data types"
      ]
    },
    {
      "cell_type": "code",
      "execution_count": null,
      "metadata": {
        "colab": {
          "base_uri": "https://localhost:8080/",
          "height": 34
        },
        "id": "jBqfcq6Q4-Yl",
        "outputId": "38f14f53-4a84-4c4a-d56b-3254d72bd0a7"
      },
      "outputs": [
        {
          "data": {
            "text/plain": [
              "['a', 1, 2.0, [13], {}]"
            ]
          },
          "execution_count": 8,
          "metadata": {
            "tags": []
          },
          "output_type": "execute_result"
        }
      ],
      "source": [
        "mixed = ['a', 1, 2.0, [13], {}]\n",
        "mixed"
      ]
    },
    {
      "cell_type": "markdown",
      "metadata": {
        "id": "_rehYX145nEk"
      },
      "source": [
        "### Indexing\n",
        "Items in lists can be accessed using indices in a similar fashion to strings."
      ]
    },
    {
      "cell_type": "markdown",
      "metadata": {
        "id": "PuGNKkIV5_64"
      },
      "source": [
        "#### Access first item"
      ]
    },
    {
      "cell_type": "code",
      "execution_count": null,
      "metadata": {
        "colab": {
          "base_uri": "https://localhost:8080/",
          "height": 34
        },
        "id": "98QVzpN_ogFQ",
        "outputId": "93224fef-7b66-492e-851c-62c71a4d3eb5"
      },
      "outputs": [
        {
          "data": {
            "text/plain": [
              "0"
            ]
          },
          "execution_count": 9,
          "metadata": {
            "tags": []
          },
          "output_type": "execute_result"
        }
      ],
      "source": [
        "numbers[0]\n"
      ]
    },
    {
      "cell_type": "markdown",
      "metadata": {
        "id": "wYljuMmX6FDo"
      },
      "source": [
        "#### Access last item"
      ]
    },
    {
      "cell_type": "code",
      "execution_count": null,
      "metadata": {
        "colab": {
          "base_uri": "https://localhost:8080/",
          "height": 34
        },
        "id": "j5XB0hVZ6S5E",
        "outputId": "702efb97-d245-4b06-c028-fe8ae61288e6"
      },
      "outputs": [
        {
          "data": {
            "text/plain": [
              "8"
            ]
          },
          "execution_count": 11,
          "metadata": {
            "tags": []
          },
          "output_type": "execute_result"
        }
      ],
      "source": [
        "numbers[-2]"
      ]
    },
    {
      "cell_type": "markdown",
      "metadata": {
        "id": "tZJYdQW87vwk"
      },
      "source": [
        "#### Access any item"
      ]
    },
    {
      "cell_type": "code",
      "execution_count": null,
      "metadata": {
        "colab": {
          "base_uri": "https://localhost:8080/",
          "height": 34
        },
        "id": "7EJZyQUl7y_5",
        "outputId": "433c5b3d-51f9-44ee-bb1b-d8d162c744bf"
      },
      "outputs": [
        {
          "data": {
            "text/plain": [
              "4"
            ]
          },
          "execution_count": 12,
          "metadata": {
            "tags": []
          },
          "output_type": "execute_result"
        }
      ],
      "source": [
        "numbers[4]"
      ]
    },
    {
      "cell_type": "markdown",
      "metadata": {
        "id": "g4-XjayC8KO7"
      },
      "source": [
        "### Adding to a list"
      ]
    },
    {
      "cell_type": "markdown",
      "metadata": {
        "id": "VVoxc0Co81iD"
      },
      "source": [
        "#### Append to the end of a list"
      ]
    },
    {
      "cell_type": "code",
      "execution_count": null,
      "metadata": {
        "colab": {
          "base_uri": "https://localhost:8080/",
          "height": 34
        },
        "id": "7l9O1BOz89Sg",
        "outputId": "f5ed7734-afd3-4dcd-8311-ac809622b29b"
      },
      "outputs": [
        {
          "data": {
            "text/plain": [
              "['a', 'c']"
            ]
          },
          "execution_count": 14,
          "metadata": {
            "tags": []
          },
          "output_type": "execute_result"
        }
      ],
      "source": [
        "letters = ['a']\n",
        "letters.append('c')\n",
        "letters"
      ]
    },
    {
      "cell_type": "markdown",
      "metadata": {
        "id": "GOWYij2p9bwL"
      },
      "source": [
        "#### Insert at beginning of list"
      ]
    },
    {
      "cell_type": "code",
      "execution_count": null,
      "metadata": {
        "colab": {
          "base_uri": "https://localhost:8080/",
          "height": 34
        },
        "id": "KgMcKp5W9fI7",
        "outputId": "5f5acb75-5715-456a-f63b-76d675676766"
      },
      "outputs": [
        {
          "data": {
            "text/plain": [
              "['b', 'a', 'c']"
            ]
          },
          "execution_count": 15,
          "metadata": {
            "tags": []
          },
          "output_type": "execute_result"
        }
      ],
      "source": [
        "letters.insert(0, 'b')\n",
        "letters"
      ]
    },
    {
      "cell_type": "markdown",
      "metadata": {
        "id": "z2pfGnq7-PHc"
      },
      "source": [
        "#### Insert at arbitrary position"
      ]
    },
    {
      "cell_type": "code",
      "execution_count": null,
      "metadata": {
        "colab": {
          "base_uri": "https://localhost:8080/",
          "height": 34
        },
        "id": "SgovUUMS-TxT",
        "outputId": "2d639b6d-eaa7-4f91-b837-88136a2b403a"
      },
      "outputs": [
        {
          "data": {
            "text/plain": [
              "['b', 'a', 'c', 'c']"
            ]
          },
          "execution_count": 16,
          "metadata": {
            "tags": []
          },
          "output_type": "execute_result"
        }
      ],
      "source": [
        "letters.insert(2, 'c')\n",
        "letters"
      ]
    },
    {
      "cell_type": "markdown",
      "metadata": {
        "id": "W2WMgepZAjkO"
      },
      "source": [
        "#### Extending with another list"
      ]
    },
    {
      "cell_type": "code",
      "execution_count": null,
      "metadata": {
        "colab": {
          "base_uri": "https://localhost:8080/",
          "height": 34
        },
        "id": "UYn06yndAoNH",
        "outputId": "a1c34ae5-d500-44b0-98a3-c4db3b47c910"
      },
      "outputs": [
        {
          "data": {
            "text/plain": [
              "['b', 'a', 'c', 'c', 'e', 'f', 'g']"
            ]
          },
          "execution_count": 17,
          "metadata": {
            "tags": []
          },
          "output_type": "execute_result"
        }
      ],
      "source": [
        "more_letters = ['e', 'f', 'g']\n",
        "letters.extend(more_letters)\n",
        "letters"
      ]
    },
    {
      "cell_type": "markdown",
      "metadata": {
        "id": "wzPgAr_s_CrC"
      },
      "source": [
        "### Change item at some position"
      ]
    },
    {
      "cell_type": "code",
      "execution_count": null,
      "metadata": {
        "colab": {
          "base_uri": "https://localhost:8080/",
          "height": 34
        },
        "id": "BZGy8c8bov2q",
        "outputId": "4fc4fd41-0e1e-4324-8302-b0ce19558908"
      },
      "outputs": [
        {
          "data": {
            "text/plain": [
              "['b', 'a', 'c', 'd', 'e', 'f', 'g']"
            ]
          },
          "execution_count": 18,
          "metadata": {
            "tags": []
          },
          "output_type": "execute_result"
        }
      ],
      "source": [
        "letters[3] = 'd'\n",
        "letters"
      ]
    },
    {
      "cell_type": "markdown",
      "metadata": {
        "id": "PGcA5_5__RZm"
      },
      "source": [
        "### Swap two items"
      ]
    },
    {
      "cell_type": "code",
      "execution_count": null,
      "metadata": {
        "colab": {
          "base_uri": "https://localhost:8080/",
          "height": 34
        },
        "id": "egbXdmQ__UB4",
        "outputId": "439400af-99d2-4d6c-aaac-f16c822bf73e"
      },
      "outputs": [
        {
          "data": {
            "text/plain": [
              "['a', 'b', 'c', 'd', 'e', 'f', 'g']"
            ]
          },
          "execution_count": 19,
          "metadata": {
            "tags": []
          },
          "output_type": "execute_result"
        }
      ],
      "source": [
        "letters[0], letters[1] = letters[1], letters[0]\n",
        "letters"
      ]
    },
    {
      "cell_type": "markdown",
      "metadata": {
        "id": "RNirVSMaHOp4"
      },
      "source": [
        "### Removing items from a list"
      ]
    },
    {
      "cell_type": "markdown",
      "metadata": {
        "id": "K0ecop0OHXo_"
      },
      "source": [
        "#### Pop from the end"
      ]
    },
    {
      "cell_type": "code",
      "execution_count": null,
      "metadata": {
        "colab": {
          "base_uri": "https://localhost:8080/",
          "height": 34
        },
        "id": "ZfFG3MZ7HdXa",
        "outputId": "fe842c28-5813-4286-df92-908864af1f53"
      },
      "outputs": [
        {
          "data": {
            "text/plain": [
              "['a', 'b', 'c', 'd', 'e']"
            ]
          },
          "execution_count": 20,
          "metadata": {
            "tags": []
          },
          "output_type": "execute_result"
        }
      ],
      "source": [
        "letters = ['a', 'b', 'c', 'd', 'e', 'f']\n",
        "letters.pop()\n",
        "letters"
      ]
    },
    {
      "cell_type": "markdown",
      "metadata": {
        "id": "WSm1EhxBH8a2"
      },
      "source": [
        "#### Pop by index"
      ]
    },
    {
      "cell_type": "code",
      "execution_count": null,
      "metadata": {
        "colab": {
          "base_uri": "https://localhost:8080/",
          "height": 34
        },
        "id": "R62Fg9l4IAYV",
        "outputId": "a6bc87d5-46e8-4383-ced0-e53c67026e43"
      },
      "outputs": [
        {
          "data": {
            "text/plain": [
              "['a', 'b', 'd', 'e']"
            ]
          },
          "execution_count": 21,
          "metadata": {
            "tags": []
          },
          "output_type": "execute_result"
        }
      ],
      "source": [
        "letters.pop(2)\n",
        "letters"
      ]
    },
    {
      "cell_type": "markdown",
      "metadata": {
        "id": "wDhR89qxIUEh"
      },
      "source": [
        "#### Remove specific item"
      ]
    },
    {
      "cell_type": "code",
      "execution_count": null,
      "metadata": {
        "colab": {
          "base_uri": "https://localhost:8080/",
          "height": 34
        },
        "id": "cAyAJIeOpYrU",
        "outputId": "60762469-653a-4e89-8ffc-4082273b728e"
      },
      "outputs": [
        {
          "data": {
            "text/plain": [
              "['a', 'b', 'e']"
            ]
          },
          "execution_count": 22,
          "metadata": {
            "tags": []
          },
          "output_type": "execute_result"
        }
      ],
      "source": [
        "letters.remove('d')\n",
        "letters"
      ]
    },
    {
      "cell_type": "markdown",
      "metadata": {
        "id": "D9_M_6cwUAaX"
      },
      "source": [
        "### Create tuple using brackets"
      ]
    },
    {
      "cell_type": "code",
      "execution_count": null,
      "metadata": {
        "colab": {
          "base_uri": "https://localhost:8080/",
          "height": 34
        },
        "id": "7Zqb_MU2UEJa",
        "outputId": "0b125537-00c5-4bd2-85d4-3dc130fcf6b7"
      },
      "outputs": [
        {
          "data": {
            "text/plain": [
              "(1, 2, 3)"
            ]
          },
          "execution_count": 23,
          "metadata": {
            "tags": []
          },
          "output_type": "execute_result"
        }
      ],
      "source": [
        "tup = (1, 2, 3)\n",
        "tup"
      ]
    },
    {
      "cell_type": "markdown",
      "metadata": {
        "id": "ep3XqjhqUIS1"
      },
      "source": [
        "### Create tuple with commas"
      ]
    },
    {
      "cell_type": "code",
      "execution_count": null,
      "metadata": {
        "colab": {
          "base_uri": "https://localhost:8080/",
          "height": 34
        },
        "id": "Oz8dkzlzUNEe",
        "outputId": "c8b25da2-8291-406f-b3e3-614cb7c06bba"
      },
      "outputs": [
        {
          "data": {
            "text/plain": [
              "(1, 2, 3)"
            ]
          },
          "execution_count": 24,
          "metadata": {
            "tags": []
          },
          "output_type": "execute_result"
        }
      ],
      "source": [
        "tup = 1, 2, 3\n",
        "tup"
      ]
    },
    {
      "cell_type": "markdown",
      "metadata": {
        "id": "p5Ie15xNUvK-"
      },
      "source": [
        "### Create empty tuple"
      ]
    },
    {
      "cell_type": "code",
      "execution_count": null,
      "metadata": {
        "colab": {
          "base_uri": "https://localhost:8080/",
          "height": 34
        },
        "id": "6M3eLXfXUxLX",
        "outputId": "83081a8c-9e5b-4a5a-bd3e-248f805e6da7"
      },
      "outputs": [
        {
          "data": {
            "text/plain": [
              "()"
            ]
          },
          "execution_count": 25,
          "metadata": {
            "tags": []
          },
          "output_type": "execute_result"
        }
      ],
      "source": [
        "tup = ()\n",
        "tup"
      ]
    },
    {
      "cell_type": "markdown",
      "metadata": {
        "id": "0YKr2HU6UzgT"
      },
      "source": [
        "### Create tuple with single item"
      ]
    },
    {
      "cell_type": "code",
      "execution_count": null,
      "metadata": {
        "colab": {
          "base_uri": "https://localhost:8080/",
          "height": 34
        },
        "id": "9ib336cLU3iu",
        "outputId": "1f47d8eb-ed90-4c0e-d759-e7aa76f4b11d"
      },
      "outputs": [
        {
          "data": {
            "text/plain": [
              "(1,)"
            ]
          },
          "execution_count": 28,
          "metadata": {
            "tags": []
          },
          "output_type": "execute_result"
        }
      ],
      "source": [
        "tup = 1,\n",
        "tup"
      ]
    },
    {
      "cell_type": "markdown",
      "metadata": {
        "id": "a_eqCY6XTy1x"
      },
      "source": [
        "### Behaviours shared by lists and tuples\n",
        "The following sequence behaviors are shared by lists and tuples"
      ]
    },
    {
      "cell_type": "markdown",
      "metadata": {
        "id": "HpNqX6QFLmdK"
      },
      "source": [
        "### Check item in sequence"
      ]
    },
    {
      "cell_type": "code",
      "execution_count": null,
      "metadata": {
        "colab": {
          "base_uri": "https://localhost:8080/",
          "height": 34
        },
        "id": "NpIdl5Cfp7-f",
        "outputId": "1f78c614-29a9-42d7-d2da-300df5698dfc"
      },
      "outputs": [
        {
          "data": {
            "text/plain": [
              "True"
            ]
          },
          "execution_count": 29,
          "metadata": {
            "tags": []
          },
          "output_type": "execute_result"
        }
      ],
      "source": [
        "3 in (1, 2, 3, 4, 5)"
      ]
    },
    {
      "cell_type": "markdown",
      "metadata": {
        "id": "Ms_bF8BjL79W"
      },
      "source": [
        "### Check item not in sequence"
      ]
    },
    {
      "cell_type": "code",
      "execution_count": null,
      "metadata": {
        "colab": {
          "base_uri": "https://localhost:8080/",
          "height": 34
        },
        "id": "gLXaJE6EMGyb",
        "outputId": "786985a3-a630-4617-a4d3-babd7fca9e77"
      },
      "outputs": [
        {
          "data": {
            "text/plain": [
              "True"
            ]
          },
          "execution_count": 30,
          "metadata": {
            "tags": []
          },
          "output_type": "execute_result"
        }
      ],
      "source": [
        "'a' not in [1, 2, 3, 4, 5]"
      ]
    },
    {
      "cell_type": "markdown",
      "metadata": {
        "id": "UNKJxMb6Mipn"
      },
      "source": [
        "### Slicing"
      ]
    },
    {
      "cell_type": "markdown",
      "metadata": {
        "id": "r_fLVxRhNWLA"
      },
      "source": [
        "#### Setting start, slice to the end"
      ]
    },
    {
      "cell_type": "code",
      "execution_count": null,
      "metadata": {
        "colab": {
          "base_uri": "https://localhost:8080/",
          "height": 34
        },
        "id": "098SVCIvsibb",
        "outputId": "8a737bd9-05af-4f95-fdc4-aa882fef47c9"
      },
      "outputs": [
        {
          "data": {
            "text/plain": [
              "('d',)"
            ]
          },
          "execution_count": 32,
          "metadata": {
            "tags": []
          },
          "output_type": "execute_result"
        }
      ],
      "source": [
        "letters = 'a', 'b', 'c', 'd', 'e', 'f'\n",
        "letters[3:4]\n"
      ]
    },
    {
      "cell_type": "markdown",
      "metadata": {
        "id": "dsNvabgmNeqw"
      },
      "source": [
        "#### Set end, slice from beginning"
      ]
    },
    {
      "cell_type": "code",
      "execution_count": null,
      "metadata": {
        "colab": {
          "base_uri": "https://localhost:8080/",
          "height": 34
        },
        "id": "QVNJeYVtNh56",
        "outputId": "249d9c60-e20c-4d78-dc02-67b74b17fe17"
      },
      "outputs": [
        {
          "data": {
            "text/plain": [
              "('a', 'b', 'c', 'd')"
            ]
          },
          "execution_count": 33,
          "metadata": {
            "tags": []
          },
          "output_type": "execute_result"
        }
      ],
      "source": [
        "letters[:4]"
      ]
    },
    {
      "cell_type": "markdown",
      "metadata": {
        "id": "Lrd7HuHnNvIi"
      },
      "source": [
        "#### Index from end of sequence"
      ]
    },
    {
      "cell_type": "code",
      "execution_count": null,
      "metadata": {
        "colab": {
          "base_uri": "https://localhost:8080/",
          "height": 34
        },
        "id": "9XiynpN9M9V_",
        "outputId": "3b8497e3-1219-496f-ec24-6c99dbd3ff8c"
      },
      "outputs": [
        {
          "data": {
            "text/plain": [
              "('c', 'd', 'e', 'f')"
            ]
          },
          "execution_count": 34,
          "metadata": {
            "tags": []
          },
          "output_type": "execute_result"
        }
      ],
      "source": [
        "letters[-4:]"
      ]
    },
    {
      "cell_type": "markdown",
      "metadata": {
        "id": "Lzkr-snEOEE9"
      },
      "source": [
        "#### Setting step"
      ]
    },
    {
      "cell_type": "code",
      "execution_count": null,
      "metadata": {
        "colab": {
          "base_uri": "https://localhost:8080/",
          "height": 34
        },
        "id": "fCzpKpbSOGy-",
        "outputId": "e0ef8366-b712-45ca-fcb7-d3db915adae6"
      },
      "outputs": [
        {
          "data": {
            "text/plain": [
              "('b',)"
            ]
          },
          "execution_count": 36,
          "metadata": {
            "tags": []
          },
          "output_type": "execute_result"
        }
      ],
      "source": [
        "letters[1::-2]"
      ]
    },
    {
      "cell_type": "markdown",
      "metadata": {
        "id": "IR6wtY_oJlSv"
      },
      "source": [
        "### Unpacking"
      ]
    },
    {
      "cell_type": "code",
      "execution_count": null,
      "metadata": {
        "colab": {
          "base_uri": "https://localhost:8080/",
          "height": 198
        },
        "id": "iUY-WFVvP82h",
        "outputId": "928e9082-4ac2-4a18-a20f-d369c9e7e713"
      },
      "outputs": [
        {
          "ename": "ValueError",
          "evalue": "ignored",
          "output_type": "error",
          "traceback": [
            "\u001b[0;31m---------------------------------------------------------------------------\u001b[0m",
            "\u001b[0;31mValueError\u001b[0m                                Traceback (most recent call last)",
            "\u001b[0;32m<ipython-input-38-c24a37f354b9>\u001b[0m in \u001b[0;36m<module>\u001b[0;34m()\u001b[0m\n\u001b[0;32m----> 1\u001b[0;31m \u001b[0mfirst\u001b[0m\u001b[0;34m,\u001b[0m \u001b[0mmiddle\u001b[0m \u001b[0;34m=\u001b[0m \u001b[0;34m[\u001b[0m\u001b[0;36m1\u001b[0m\u001b[0;34m,\u001b[0m \u001b[0;36m2\u001b[0m\u001b[0;34m,\u001b[0m \u001b[0;36m3\u001b[0m\u001b[0;34m]\u001b[0m\u001b[0;34m\u001b[0m\u001b[0;34m\u001b[0m\u001b[0m\n\u001b[0m\u001b[1;32m      2\u001b[0m \u001b[0;34m\u001b[0m\u001b[0m\n\u001b[1;32m      3\u001b[0m \u001b[0;34mf\"first = {first},  middle = {middle},  last = {last}\"\u001b[0m\u001b[0;34m\u001b[0m\u001b[0;34m\u001b[0m\u001b[0m\n",
            "\u001b[0;31mValueError\u001b[0m: too many values to unpack (expected 2)"
          ]
        }
      ],
      "source": [
        "first, middle = [1, 2, 3]\n",
        "\n",
        "f\"first = {first},  middle = {middle},  last = {last}\""
      ]
    },
    {
      "cell_type": "markdown",
      "metadata": {
        "id": "Ryn60MRRQLhE"
      },
      "source": [
        "### Extended unpacking"
      ]
    },
    {
      "cell_type": "code",
      "execution_count": null,
      "metadata": {
        "colab": {
          "base_uri": "https://localhost:8080/",
          "height": 34
        },
        "id": "5olgXZcwQOwY",
        "outputId": "1c3babb9-a0b5-4018-cbeb-b5ea287d2e04"
      },
      "outputs": [
        {
          "data": {
            "text/plain": [
              "'first = 1,  middle = [2, 3, 4],  last = 5'"
            ]
          },
          "execution_count": 42,
          "metadata": {
            "tags": []
          },
          "output_type": "execute_result"
        }
      ],
      "source": [
        "first, *middle, last = (1, 2, 3, 4, 5)\n",
        "\n",
        "f\"first = {first},  middle = {middle},  last = {last}\""
      ]
    },
    {
      "cell_type": "markdown",
      "metadata": {
        "id": "uRwRq8FkSMxF"
      },
      "source": [
        "### Using list as Stack\n",
        "A stack is a LIFO (last in, first out) data structure which can be simulated using a list"
      ]
    },
    {
      "cell_type": "markdown",
      "metadata": {
        "id": "UMhxPw8tV2ot"
      },
      "source": [
        "#### Push onto the stack using append"
      ]
    },
    {
      "cell_type": "code",
      "execution_count": null,
      "metadata": {
        "colab": {
          "base_uri": "https://localhost:8080/",
          "height": 34
        },
        "id": "47_iDnO6V6ut",
        "outputId": "18c3ccf8-0d66-4681-e576-387985c81f82"
      },
      "outputs": [
        {
          "data": {
            "text/plain": [
              "['first on', 'second on', 'third on']"
            ]
          },
          "execution_count": 43,
          "metadata": {
            "tags": []
          },
          "output_type": "execute_result"
        }
      ],
      "source": [
        "stack = []\n",
        "stack.append('first on')\n",
        "stack.append('second on')\n",
        "stack.append('third on')\n",
        "stack"
      ]
    },
    {
      "cell_type": "markdown",
      "metadata": {
        "id": "M_wrgcjcWUij"
      },
      "source": [
        "#### Retrieve items, last one first using **pop**"
      ]
    },
    {
      "cell_type": "code",
      "execution_count": null,
      "metadata": {
        "colab": {
          "base_uri": "https://localhost:8080/",
          "height": 34
        },
        "id": "mY_Wbh9-WZq_",
        "outputId": "b5859dbe-52fb-47b8-b9ed-2f799e45be69"
      },
      "outputs": [
        {
          "data": {
            "text/plain": [
              "\"Retrieved first: 'third on', retrieved second: 'second on', retrieved last: 'first on'\""
            ]
          },
          "execution_count": 44,
          "metadata": {
            "tags": []
          },
          "output_type": "execute_result"
        }
      ],
      "source": [
        "f\"Retrieved first: {stack.pop()!r}, retrieved second: {stack.pop()!r}, retrieved last: {stack.pop()!r}\""
      ]
    },
    {
      "cell_type": "markdown",
      "metadata": {
        "id": "SxpzGoM_Z_RU"
      },
      "source": [
        "## Explore dictionaries \n",
        "Dictionaries are mappings of key value pairs."
      ]
    },
    {
      "cell_type": "markdown",
      "metadata": {
        "id": "l9nWQuW1oLCE"
      },
      "source": [
        "### Create an empty dict using constructor"
      ]
    },
    {
      "cell_type": "code",
      "execution_count": null,
      "metadata": {
        "colab": {
          "base_uri": "https://localhost:8080/",
          "height": 34
        },
        "id": "45C_FS-eoR-3",
        "outputId": "bd814a64-d7e0-4577-fbe0-46c721330ab1"
      },
      "outputs": [
        {
          "data": {
            "text/plain": [
              "{}"
            ]
          },
          "execution_count": 46,
          "metadata": {
            "tags": []
          },
          "output_type": "execute_result"
        }
      ],
      "source": [
        "dictionary = {}\n",
        "dictionary"
      ]
    },
    {
      "cell_type": "markdown",
      "metadata": {
        "id": "uwNpFQFGo0C_"
      },
      "source": [
        "### Create a dictionary based on key/value pairs"
      ]
    },
    {
      "cell_type": "code",
      "execution_count": null,
      "metadata": {
        "colab": {
          "base_uri": "https://localhost:8080/",
          "height": 34
        },
        "id": "VWYvp8peo5ok",
        "outputId": "ef583270-e5dc-4902-a524-696345ff0db1"
      },
      "outputs": [
        {
          "data": {
            "text/plain": [
              "{'key-1': 'value-1', 'key-2': 'value-2'}"
            ]
          },
          "execution_count": 47,
          "metadata": {
            "tags": []
          },
          "output_type": "execute_result"
        }
      ],
      "source": [
        "key_values = [['key-1','value-1'], ['key-2', 'value-2']]\n",
        "dictionary = dict(key_values)\n",
        "dictionary"
      ]
    },
    {
      "cell_type": "markdown",
      "metadata": {
        "id": "oLd8LV02ofza"
      },
      "source": [
        "### Create an empty dict using curley braces"
      ]
    },
    {
      "cell_type": "code",
      "execution_count": null,
      "metadata": {
        "colab": {
          "base_uri": "https://localhost:8080/",
          "height": 34
        },
        "id": "El6HcTagolLw",
        "outputId": "696a4405-368b-4113-a0d1-99566e249446"
      },
      "outputs": [
        {
          "data": {
            "text/plain": [
              "{}"
            ]
          },
          "execution_count": 48,
          "metadata": {
            "tags": []
          },
          "output_type": "execute_result"
        }
      ],
      "source": [
        "dictionary = {}\n",
        "dictionary"
      ]
    },
    {
      "cell_type": "markdown",
      "metadata": {
        "id": "yXNaZRMdpQoK"
      },
      "source": [
        "### Use curley braces to create a dictionary with initial key/values"
      ]
    },
    {
      "cell_type": "code",
      "execution_count": null,
      "metadata": {
        "colab": {
          "base_uri": "https://localhost:8080/",
          "height": 34
        },
        "id": "oRTWGBtvpYcb",
        "outputId": "922c363f-d506-4eb0-81bb-a7301155bdf7"
      },
      "outputs": [
        {
          "data": {
            "text/plain": [
              "{'key-1': 'value-1', 'key-2': 'value-2'}"
            ]
          },
          "execution_count": 49,
          "metadata": {
            "tags": []
          },
          "output_type": "execute_result"
        }
      ],
      "source": [
        "dictionary = {'key-1': 'value-1',\n",
        "              'key-2': 'value-2'}\n",
        "\n",
        "dictionary"
      ]
    },
    {
      "cell_type": "markdown",
      "metadata": {
        "id": "vb9aP6o5pv_B"
      },
      "source": [
        "### Access value using key"
      ]
    },
    {
      "cell_type": "code",
      "execution_count": null,
      "metadata": {
        "colab": {
          "base_uri": "https://localhost:8080/",
          "height": 34
        },
        "id": "3-jz1H8Apzgm",
        "outputId": "3970a9a3-a15c-4a80-a2fc-81ad55cc1717"
      },
      "outputs": [
        {
          "data": {
            "text/plain": [
              "'value-1'"
            ]
          },
          "execution_count": 51,
          "metadata": {
            "tags": []
          },
          "output_type": "execute_result"
        }
      ],
      "source": [
        "dictionary['key-1']"
      ]
    },
    {
      "cell_type": "markdown",
      "metadata": {
        "id": "UBSLRWEeqE-W"
      },
      "source": [
        "### Add a key/value pair to an existing dictionary"
      ]
    },
    {
      "cell_type": "code",
      "execution_count": null,
      "metadata": {
        "colab": {
          "base_uri": "https://localhost:8080/",
          "height": 34
        },
        "id": "J98co3mWqJ5I",
        "outputId": "4ec4724f-aeca-48db-d6c9-84fef9a8c849"
      },
      "outputs": [
        {
          "data": {
            "text/plain": [
              "{'key-1': 'value-1', 'key-2': 'value-2', 'key-3': 'value-3'}"
            ]
          },
          "execution_count": 52,
          "metadata": {
            "tags": []
          },
          "output_type": "execute_result"
        }
      ],
      "source": [
        "dictionary['key-3'] = 'value-3'\n",
        "\n",
        "dictionary"
      ]
    },
    {
      "cell_type": "markdown",
      "metadata": {
        "id": "xmHWK2hHq7c_"
      },
      "source": [
        "### Update value for existing key"
      ]
    },
    {
      "cell_type": "code",
      "execution_count": null,
      "metadata": {
        "colab": {
          "base_uri": "https://localhost:8080/",
          "height": 34
        },
        "id": "VrV2r-vUq-JV",
        "outputId": "c7960849-de81-461f-eed5-1806f9a01ceb"
      },
      "outputs": [
        {
          "data": {
            "text/plain": [
              "'new-value-2'"
            ]
          },
          "execution_count": 53,
          "metadata": {
            "tags": []
          },
          "output_type": "execute_result"
        }
      ],
      "source": [
        "dictionary['key-2'] = 'new-value-2'\n",
        "dictionary['key-2']"
      ]
    },
    {
      "cell_type": "markdown",
      "metadata": {
        "id": "_ot60Snlra6K"
      },
      "source": [
        "### Get keys"
      ]
    },
    {
      "cell_type": "code",
      "execution_count": null,
      "metadata": {
        "colab": {
          "base_uri": "https://localhost:8080/",
          "height": 34
        },
        "id": "Lv726tMhrYnh",
        "outputId": "23089819-c637-4e89-a48e-ee5507b4b550"
      },
      "outputs": [
        {
          "data": {
            "text/plain": [
              "['key-1', 'key-2', 'key-3']"
            ]
          },
          "execution_count": 55,
          "metadata": {
            "tags": []
          },
          "output_type": "execute_result"
        }
      ],
      "source": [
        "list(dictionary.keys())"
      ]
    },
    {
      "cell_type": "markdown",
      "metadata": {
        "id": "WGJyKhKgrf11"
      },
      "source": [
        "### Get values"
      ]
    },
    {
      "cell_type": "code",
      "execution_count": null,
      "metadata": {
        "colab": {
          "base_uri": "https://localhost:8080/",
          "height": 34
        },
        "id": "F7F-fNMMrhT5",
        "outputId": "f9ace37c-d4de-450d-b4e3-c6b06790fbd0"
      },
      "outputs": [
        {
          "data": {
            "text/plain": [
              "dict_values(['value-1', 'new-value-2', 'value-3'])"
            ]
          },
          "execution_count": 56,
          "metadata": {
            "tags": []
          },
          "output_type": "execute_result"
        }
      ],
      "source": [
        "dictionary.values()"
      ]
    },
    {
      "cell_type": "markdown",
      "metadata": {
        "id": "tCpdFg8JrqKM"
      },
      "source": [
        "### Get iterable keys and items"
      ]
    },
    {
      "cell_type": "code",
      "execution_count": null,
      "metadata": {
        "colab": {
          "base_uri": "https://localhost:8080/",
          "height": 34
        },
        "id": "0dZRJamArlLg",
        "outputId": "1d43a628-2f5e-4d4e-c179-b7cbc2373c37"
      },
      "outputs": [
        {
          "data": {
            "text/plain": [
              "dict_items([('key-1', 'value-1'), ('key-2', 'new-value-2'), ('key-3', 'value-3')])"
            ]
          },
          "execution_count": 57,
          "metadata": {
            "tags": []
          },
          "output_type": "execute_result"
        }
      ],
      "source": [
        "dictionary.items()"
      ]
    },
    {
      "cell_type": "markdown",
      "metadata": {
        "id": "Cvk5OCmQrvkd"
      },
      "source": [
        "### Use items in for loop"
      ]
    },
    {
      "cell_type": "code",
      "execution_count": null,
      "metadata": {
        "colab": {
          "base_uri": "https://localhost:8080/",
          "height": 68
        },
        "id": "bzYEfTEWrxno",
        "outputId": "b8b1427b-7eb0-4f4c-c36c-3b526d9a09dd"
      },
      "outputs": [
        {
          "name": "stdout",
          "output_type": "stream",
          "text": [
            "key-1: value-1\n",
            "key-2: new-value-2\n",
            "key-3: value-3\n"
          ]
        }
      ],
      "source": [
        "for key, value in dictionary.items():\n",
        "  print(f\"{key}: {value}\")"
      ]
    },
    {
      "cell_type": "markdown",
      "metadata": {
        "id": "9fqITS30sJC6"
      },
      "source": [
        "### Check if dictionary has key\n",
        "The 'in' syntax we used with sequences checks the dicts keys for membership."
      ]
    },
    {
      "cell_type": "code",
      "execution_count": null,
      "metadata": {
        "colab": {
          "base_uri": "https://localhost:8080/",
          "height": 34
        },
        "id": "c1XdFLXNsWVq",
        "outputId": "fc5b766b-be93-4d8f-95e0-fd17f981bee0"
      },
      "outputs": [
        {
          "data": {
            "text/plain": [
              "False"
            ]
          },
          "execution_count": 60,
          "metadata": {
            "tags": []
          },
          "output_type": "execute_result"
        }
      ],
      "source": [
        "'key-5' in dictionary"
      ]
    },
    {
      "cell_type": "markdown",
      "metadata": {
        "id": "G4Z2Pk3VsyUJ"
      },
      "source": [
        "### Get method"
      ]
    },
    {
      "cell_type": "code",
      "execution_count": null,
      "metadata": {
        "colab": {
          "base_uri": "https://localhost:8080/",
          "height": 34
        },
        "id": "FnHIgV8_s1eQ",
        "outputId": "50b29063-b0c2-44b8-bd97-4b1da21282a7"
      },
      "outputs": [
        {
          "data": {
            "text/plain": [
              "'default value'"
            ]
          },
          "execution_count": 64,
          "metadata": {
            "tags": []
          },
          "output_type": "execute_result"
        }
      ],
      "source": [
        "dictionary.get(\"bad key\", \"default value\")"
      ]
    },
    {
      "cell_type": "markdown",
      "metadata": {
        "id": "YmWqelbJthVB"
      },
      "source": [
        "### Remove item"
      ]
    },
    {
      "cell_type": "code",
      "execution_count": null,
      "metadata": {
        "colab": {
          "base_uri": "https://localhost:8080/",
          "height": 34
        },
        "id": "tOLuWnHEtkjT",
        "outputId": "e90cf788-09a9-4e0a-9231-b29f8c070fab"
      },
      "outputs": [
        {
          "data": {
            "text/plain": [
              "{'key-2': 'new-value-2', 'key-3': 'value-3'}"
            ]
          },
          "execution_count": 65,
          "metadata": {
            "tags": []
          },
          "output_type": "execute_result"
        }
      ],
      "source": [
        "del(dictionary['key-1'])\n",
        "dictionary"
      ]
    },
    {
      "cell_type": "markdown",
      "metadata": {
        "id": "AnFGTgxCiZnk"
      },
      "source": [
        "### Keys must be immutable"
      ]
    },
    {
      "cell_type": "markdown",
      "metadata": {
        "id": "rnKNsxuZinvy"
      },
      "source": [
        "#### List as key\n",
        "Lists are mutable and not hashable"
      ]
    },
    {
      "cell_type": "code",
      "execution_count": null,
      "metadata": {
        "colab": {
          "base_uri": "https://localhost:8080/",
          "height": 198
        },
        "id": "16t9F7PPipo4",
        "outputId": "ad113919-80cc-44cd-cc76-ad1d252dde27"
      },
      "outputs": [
        {
          "ename": "TypeError",
          "evalue": "ignored",
          "output_type": "error",
          "traceback": [
            "\u001b[0;31m---------------------------------------------------------------------------\u001b[0m",
            "\u001b[0;31mTypeError\u001b[0m                                 Traceback (most recent call last)",
            "\u001b[0;32m<ipython-input-66-25faa77a670a>\u001b[0m in \u001b[0;36m<module>\u001b[0;34m()\u001b[0m\n\u001b[1;32m      3\u001b[0m \u001b[0mmap\u001b[0m \u001b[0;34m=\u001b[0m \u001b[0;34m{\u001b[0m\u001b[0;34m}\u001b[0m\u001b[0;34m\u001b[0m\u001b[0;34m\u001b[0m\u001b[0m\n\u001b[1;32m      4\u001b[0m \u001b[0;34m\u001b[0m\u001b[0m\n\u001b[0;32m----> 5\u001b[0;31m \u001b[0mmap\u001b[0m\u001b[0;34m[\u001b[0m\u001b[0mitems\u001b[0m\u001b[0;34m]\u001b[0m \u001b[0;34m=\u001b[0m \u001b[0;34m\"some-value\"\u001b[0m\u001b[0;34m\u001b[0m\u001b[0;34m\u001b[0m\u001b[0m\n\u001b[0m",
            "\u001b[0;31mTypeError\u001b[0m: unhashable type: 'list'"
          ]
        }
      ],
      "source": [
        "items = ['item-1', 'item-2', 'item-3']\n",
        "\n",
        "map = {}\n",
        "\n",
        "map[items] = \"some-value\""
      ]
    },
    {
      "cell_type": "markdown",
      "metadata": {
        "id": "_9vXIamIjLER"
      },
      "source": [
        "#### Tuple as a key\n",
        "Tuples are immutable and hence hashable"
      ]
    },
    {
      "cell_type": "code",
      "execution_count": null,
      "metadata": {
        "colab": {
          "base_uri": "https://localhost:8080/",
          "height": 34
        },
        "id": "K2pFCFu3jNRM",
        "outputId": "5e1fc13f-b76f-45d5-9fff-359f6199972e"
      },
      "outputs": [
        {
          "data": {
            "text/plain": [
              "{('item-1', 'item-2', 'item-3'): 'some-value'}"
            ]
          },
          "execution_count": 67,
          "metadata": {
            "tags": []
          },
          "output_type": "execute_result"
        }
      ],
      "source": [
        "items = 'item-1', 'item-2', 'item-3'\n",
        "map = {}\n",
        "map[items] = \"some-value\"\n",
        "\n",
        "map"
      ]
    },
    {
      "cell_type": "markdown",
      "metadata": {
        "id": "Y1rOvrTSaCnA"
      },
      "source": [
        "## Dive into sets"
      ]
    },
    {
      "cell_type": "markdown",
      "metadata": {
        "id": "_Bu_DUont1Ks"
      },
      "source": [
        "### Create set from tuple or list"
      ]
    },
    {
      "cell_type": "code",
      "execution_count": null,
      "metadata": {
        "colab": {
          "base_uri": "https://localhost:8080/",
          "height": 34
        },
        "id": "epPCLrckt4Zy",
        "outputId": "df768aae-5c29-492b-a444-d60735fb0f36"
      },
      "outputs": [
        {
          "data": {
            "text/plain": [
              "{'a', 'b', 'c'}"
            ]
          },
          "execution_count": 68,
          "metadata": {
            "tags": []
          },
          "output_type": "execute_result"
        }
      ],
      "source": [
        "letters = 'a', 'a', 'a', 'b', 'c'\n",
        "unique_letters = set(letters)\n",
        "unique_letters"
      ]
    },
    {
      "cell_type": "markdown",
      "metadata": {
        "id": "qnQHMNCRuebg"
      },
      "source": [
        "### Create set from a string"
      ]
    },
    {
      "cell_type": "code",
      "execution_count": null,
      "metadata": {
        "colab": {
          "base_uri": "https://localhost:8080/",
          "height": 34
        },
        "id": "IRsuJBVC_ORB",
        "outputId": "ffca987d-0534-4e4f-d660-24318b4c2795"
      },
      "outputs": [
        {
          "data": {
            "text/plain": [
              "{'i', 'm', 'p', 's'}"
            ]
          },
          "execution_count": 69,
          "metadata": {
            "tags": []
          },
          "output_type": "execute_result"
        }
      ],
      "source": [
        "unique_chars = set('mississippi')\n",
        "unique_chars"
      ]
    },
    {
      "cell_type": "markdown",
      "metadata": {
        "id": "LUJyjEh1uzrv"
      },
      "source": [
        "### Create set using curley braces"
      ]
    },
    {
      "cell_type": "code",
      "execution_count": null,
      "metadata": {
        "colab": {
          "base_uri": "https://localhost:8080/",
          "height": 34
        },
        "id": "afYk3yfTu3Pt",
        "outputId": "8fc66ae0-c16c-45e0-d684-41757f68ee81"
      },
      "outputs": [
        {
          "data": {
            "text/plain": [
              "{1, 2, 3, 4, 5}"
            ]
          },
          "execution_count": 70,
          "metadata": {
            "tags": []
          },
          "output_type": "execute_result"
        }
      ],
      "source": [
        "unique_num = {1, 1, 2, 3, 4, 5, 5}\n",
        "unique_num"
      ]
    },
    {
      "cell_type": "markdown",
      "metadata": {
        "id": "jDMYvC0avu_C"
      },
      "source": [
        "### Adding to a set"
      ]
    },
    {
      "cell_type": "code",
      "execution_count": null,
      "metadata": {
        "colab": {
          "base_uri": "https://localhost:8080/",
          "height": 34
        },
        "id": "hoZ7hcrBvwtc",
        "outputId": "1585f6f0-3122-480e-a69a-022460b0fbc7"
      },
      "outputs": [
        {
          "data": {
            "text/plain": [
              "{1, 2, 3, 4, 5, 6}"
            ]
          },
          "execution_count": 72,
          "metadata": {
            "tags": []
          },
          "output_type": "execute_result"
        }
      ],
      "source": [
        "unique_num.add(6)\n",
        "unique_num"
      ]
    },
    {
      "cell_type": "markdown",
      "metadata": {
        "id": "o-UWnVB7v8yb"
      },
      "source": [
        "### Popping from a set\n",
        "Pop method removes and returns a random element of the set"
      ]
    },
    {
      "cell_type": "code",
      "execution_count": null,
      "metadata": {
        "colab": {
          "base_uri": "https://localhost:8080/",
          "height": 34
        },
        "id": "e9xWJPXnwF4s",
        "outputId": "3d0bc7f2-3dda-4738-975b-011d09f8ec7f"
      },
      "outputs": [
        {
          "data": {
            "text/plain": [
              "2"
            ]
          },
          "execution_count": 74,
          "metadata": {
            "tags": []
          },
          "output_type": "execute_result"
        }
      ],
      "source": [
        "unique_num.pop()"
      ]
    },
    {
      "cell_type": "markdown",
      "metadata": {
        "id": "VJjl2Fv9vLOl"
      },
      "source": [
        "### Indexing\n",
        "Sets have no order, and hence cannot be accessed via indexing"
      ]
    },
    {
      "cell_type": "code",
      "execution_count": null,
      "metadata": {
        "colab": {
          "base_uri": "https://localhost:8080/",
          "height": 164
        },
        "id": "vxPCJWJOvShU",
        "outputId": "8bd70eb2-1c1d-4b64-f23b-dcf278c4a29f"
      },
      "outputs": [
        {
          "ename": "TypeError",
          "evalue": "ignored",
          "output_type": "error",
          "traceback": [
            "\u001b[0;31m---------------------------------------------------------------------------\u001b[0m",
            "\u001b[0;31mTypeError\u001b[0m                                 Traceback (most recent call last)",
            "\u001b[0;32m<ipython-input-75-c928415e5703>\u001b[0m in \u001b[0;36m<module>\u001b[0;34m()\u001b[0m\n\u001b[0;32m----> 1\u001b[0;31m \u001b[0munique_num\u001b[0m\u001b[0;34m[\u001b[0m\u001b[0;36m4\u001b[0m\u001b[0;34m]\u001b[0m\u001b[0;34m\u001b[0m\u001b[0;34m\u001b[0m\u001b[0m\n\u001b[0m",
            "\u001b[0;31mTypeError\u001b[0m: 'set' object does not support indexing"
          ]
        }
      ],
      "source": [
        "unique_num[4]"
      ]
    },
    {
      "cell_type": "markdown",
      "metadata": {
        "id": "TQyoEjgivjA3"
      },
      "source": [
        "### Checking membership"
      ]
    },
    {
      "cell_type": "code",
      "execution_count": null,
      "metadata": {
        "colab": {
          "base_uri": "https://localhost:8080/",
          "height": 34
        },
        "id": "3zOvkWX6vlf2",
        "outputId": "020d8aef-4a5a-45fc-da0c-8e5a74240487"
      },
      "outputs": [
        {
          "data": {
            "text/plain": [
              "True"
            ]
          },
          "execution_count": 76,
          "metadata": {
            "tags": []
          },
          "output_type": "execute_result"
        }
      ],
      "source": [
        "3 in unique_num"
      ]
    },
    {
      "cell_type": "markdown",
      "metadata": {
        "id": "6ph_k8RUweYA"
      },
      "source": [
        "### Set operations"
      ]
    },
    {
      "cell_type": "code",
      "execution_count": null,
      "metadata": {
        "id": "7EfN4R5xwmXM"
      },
      "outputs": [],
      "source": [
        "s1 = { 1 ,2 ,3 ,4, 5, 6, 7}\n",
        "s2 = { 0, 2, 4, 6, 8 }"
      ]
    },
    {
      "cell_type": "markdown",
      "metadata": {
        "id": "RAG3ATbtwtwm"
      },
      "source": [
        "#### Items in first set, but not in the second"
      ]
    },
    {
      "cell_type": "code",
      "execution_count": null,
      "metadata": {
        "colab": {
          "base_uri": "https://localhost:8080/",
          "height": 34
        },
        "id": "kCfxlj9Lwz1x",
        "outputId": "3c3b92ad-959b-46bf-ecb0-2513886923b9"
      },
      "outputs": [
        {
          "data": {
            "text/plain": [
              "{1, 3, 5, 7}"
            ]
          },
          "execution_count": 78,
          "metadata": {
            "tags": []
          },
          "output_type": "execute_result"
        }
      ],
      "source": [
        "s1 - s2"
      ]
    },
    {
      "cell_type": "markdown",
      "metadata": {
        "id": "KDA6bO1Vw8Bk"
      },
      "source": [
        "#### Items in either or both sets"
      ]
    },
    {
      "cell_type": "code",
      "execution_count": null,
      "metadata": {
        "colab": {
          "base_uri": "https://localhost:8080/",
          "height": 34
        },
        "id": "a-1CBUnRw-y-",
        "outputId": "584219f7-80ba-4e24-f3ec-b833428bfc87"
      },
      "outputs": [
        {
          "data": {
            "text/plain": [
              "{0, 1, 2, 3, 4, 5, 6, 7, 8}"
            ]
          },
          "execution_count": 79,
          "metadata": {
            "tags": []
          },
          "output_type": "execute_result"
        }
      ],
      "source": [
        "s1 | s2"
      ]
    },
    {
      "cell_type": "markdown",
      "metadata": {
        "id": "ADEQBlFrxIN7"
      },
      "source": [
        "#### Items in both sets"
      ]
    },
    {
      "cell_type": "code",
      "execution_count": null,
      "metadata": {
        "colab": {
          "base_uri": "https://localhost:8080/",
          "height": 34
        },
        "id": "IIudbePtxRkR",
        "outputId": "ad5fcea8-8b15-467d-a895-c11e4caa8609"
      },
      "outputs": [
        {
          "data": {
            "text/plain": [
              "{2, 4, 6}"
            ]
          },
          "execution_count": 80,
          "metadata": {
            "tags": []
          },
          "output_type": "execute_result"
        }
      ],
      "source": [
        "s1 & s2"
      ]
    },
    {
      "cell_type": "markdown",
      "metadata": {
        "id": "742awPXgxat5"
      },
      "source": [
        "#### Items in either set, but not both"
      ]
    },
    {
      "cell_type": "code",
      "execution_count": null,
      "metadata": {
        "colab": {
          "base_uri": "https://localhost:8080/",
          "height": 34
        },
        "id": "03UonZ9G_jDc",
        "outputId": "b06f2369-fd8f-42a3-befb-d9af998f7076"
      },
      "outputs": [
        {
          "data": {
            "text/plain": [
              "{0, 1, 3, 5, 7, 8}"
            ]
          },
          "execution_count": 81,
          "metadata": {
            "tags": []
          },
          "output_type": "execute_result"
        }
      ],
      "source": [
        "s1 ^ s2"
      ]
    }
  ],
  "metadata": {
    "colab": {
      "collapsed_sections": [
        "_rehYX145nEk",
        "g4-XjayC8KO7"
      ],
      "name": "Lesson5-Python For Data Science-Python-Data-structure.ipynb",
      "provenance": []
    },
    "kernelspec": {
      "display_name": "Python 3",
      "language": "python",
      "name": "python3"
    }
  },
  "nbformat": 4,
  "nbformat_minor": 0
}
