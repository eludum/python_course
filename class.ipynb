{
 "cells": [
  {
   "cell_type": "markdown",
   "metadata": {},
   "source": [
    "Object Orienteering: Using Classes\n",
    "\n",
    "## Introduction\n",
    "\n",
    "From the name of it you can see that **object-oriented programming** is oozing with abstraction and complication. \n",
    "\n",
    "Take heart: there's no need to fear or avoid object-oriented programming in Python! \n",
    "\n",
    "It's just another easy-to-use, flexible, and dynamic tool in the deep toolbox that Python makes available. \n",
    "\n",
    "In fact, we've been using objects and object oriented concepts ever since the first line of Python code that we wrote, so it's already familiar. \n",
    "\n",
    "In this lesson, we'll think more deeply about what it is that we've been doing all along, and how we can take advantage of these ideas."
   ]
  },
  {
   "cell_type": "markdown",
   "metadata": {},
   "source": [
    "Consider, for example, the difference between a **function** and a **method**: \n"
   ]
  },
  {
   "cell_type": "code",
   "execution_count": 1,
   "metadata": {},
   "outputs": [
    {
     "data": {
      "text/plain": [
       "4"
      ]
     },
     "execution_count": 1,
     "metadata": {},
     "output_type": "execute_result"
    }
   ],
   "source": [
    "name = \"Mark\"\n",
    "len(name) # function"
   ]
  },
  {
   "cell_type": "code",
   "execution_count": 2,
   "metadata": {},
   "outputs": [
    {
     "data": {
      "text/plain": [
       "'MARK'"
      ]
     },
     "execution_count": 2,
     "metadata": {},
     "output_type": "execute_result"
    }
   ],
   "source": [
    "name.upper() # method"
   ]
  },
  {
   "cell_type": "markdown",
   "metadata": {},
   "source": [
    "In this example, `name` is an **instance** of the `str` **type**. \n",
    "\n",
    "In other words, `name` is an **object** of that type. \n",
    "\n",
    "An object is just a convenient wrapper around a combination of some data and functionality related to that data, embodied in methods. \n",
    "\n",
    "Until now, you've probably thought of every `str` just in terms of its data, i.e. the literal string `\"Mark\"` that was used to assign the variable. \n",
    "\n",
    "The **methods** that work with `name` were defined just once, in a **class definition**, and apply to every string that is ever created. \n",
    "\n",
    "**Methods** are actually the same thing as functions that live inside a class instead of outside it. \n",
    "\n",
    "(This paragraph probably still seems really confusing. Try re-reading it at the end of the lesson!)"
   ]
  },
  {
   "cell_type": "markdown",
   "metadata": {},
   "source": [
    "## Your first class\n",
    "\n",
    "Just as the keyword def is used to define functions, the keyword class is used to define a type object that will generate a new kind of object, which you get to name!\n",
    "\n",
    "As an ongoing example, we'll work with a class that we'll choose to name Person:"
   ]
  },
  {
   "cell_type": "code",
   "execution_count": 3,
   "metadata": {
    "collapsed": true
   },
   "outputs": [],
   "source": [
    "class Person(object):\n",
    "    pass"
   ]
  },
  {
   "cell_type": "code",
   "execution_count": 4,
   "metadata": {},
   "outputs": [
    {
     "data": {
      "text/plain": [
       "type"
      ]
     },
     "execution_count": 4,
     "metadata": {},
     "output_type": "execute_result"
    }
   ],
   "source": [
    "type(Person) "
   ]
  },
  {
   "cell_type": "code",
   "execution_count": 5,
   "metadata": {},
   "outputs": [
    {
     "data": {
      "text/plain": [
       "True"
      ]
     },
     "execution_count": 5,
     "metadata": {},
     "output_type": "execute_result"
    }
   ],
   "source": [
    "type(Person) == type(int) "
   ]
  },
  {
   "cell_type": "code",
   "execution_count": 6,
   "metadata": {
    "collapsed": true
   },
   "outputs": [],
   "source": [
    "nobody = Person()"
   ]
  },
  {
   "cell_type": "code",
   "execution_count": 7,
   "metadata": {},
   "outputs": [
    {
     "data": {
      "text/plain": [
       "__main__.Person"
      ]
     },
     "execution_count": 7,
     "metadata": {},
     "output_type": "execute_result"
    }
   ],
   "source": [
    "type(nobody)"
   ]
  },
  {
   "cell_type": "markdown",
   "metadata": {},
   "source": [
    "At first, the `Person` class doesn't do much, because it's totally empty! \n",
    "\n",
    "This isn't as useless as it seems, because, just like everything else in Python, classes and their objects are dynamic. \n",
    "\n",
    "The (object) after `Person` is not a function call; here it names the **parent class**. \n",
    "\n",
    "Even though the `Person` class looks boring, the fundamentals are there:\n",
    "\n",
    "- the `Person` class is just as much of a class as int or any other built-in\n",
    "\n",
    "- we can make an instance by using the class name as a constructor function\n",
    "\n",
    "- the type of the instance nobody is Person, just like `type(1)` is `int`"
   ]
  },
  {
   "cell_type": "markdown",
   "metadata": {},
   "source": [
    "Since that's about all we can do, let's start over, and wrap some data and functionality into the Person: "
   ]
  },
  {
   "cell_type": "code",
   "execution_count": 8,
   "metadata": {
    "collapsed": true
   },
   "outputs": [],
   "source": [
    "class Person (object): \n",
    "    species = \"Homo sapiens\" \n",
    "    \n",
    "    def talk(self): \n",
    "        return \"Hello there, how are you?\" "
   ]
  },
  {
   "cell_type": "code",
   "execution_count": 9,
   "metadata": {},
   "outputs": [
    {
     "data": {
      "text/plain": [
       "'Homo sapiens'"
      ]
     },
     "execution_count": 9,
     "metadata": {},
     "output_type": "execute_result"
    }
   ],
   "source": [
    "nobody = Person() \n",
    "nobody.species"
   ]
  },
  {
   "cell_type": "code",
   "execution_count": 10,
   "metadata": {},
   "outputs": [
    {
     "data": {
      "text/plain": [
       "'Hello there, how are you?'"
      ]
     },
     "execution_count": 10,
     "metadata": {},
     "output_type": "execute_result"
    }
   ],
   "source": [
    "nobody.talk()"
   ]
  },
  {
   "cell_type": "markdown",
   "metadata": {},
   "source": [
    "It's very important to give any **method** (i.e. function defined in the class) at least one argument, which is almost always called `self`. \n",
    "\n",
    "This is because internally Python translates `nobody.talk()` into something like `Person.talk(nobody)`"
   ]
  },
  {
   "cell_type": "markdown",
   "metadata": {},
   "source": [
    "Let's experiment with the Person class and its objects and do things like re-assigning other data attributes. "
   ]
  },
  {
   "cell_type": "code",
   "execution_count": 11,
   "metadata": {
    "collapsed": true
   },
   "outputs": [],
   "source": [
    "somebody = Person()\n",
    "somebody.species = 'Homo internetus' \n",
    "somebody.name = \"Mark\""
   ]
  },
  {
   "cell_type": "code",
   "execution_count": 12,
   "metadata": {},
   "outputs": [
    {
     "data": {
      "text/plain": [
       "'Homo sapiens'"
      ]
     },
     "execution_count": 12,
     "metadata": {},
     "output_type": "execute_result"
    }
   ],
   "source": [
    "nobody.species "
   ]
  },
  {
   "cell_type": "code",
   "execution_count": 13,
   "metadata": {},
   "outputs": [
    {
     "data": {
      "text/plain": [
       "'Unknown'"
      ]
     },
     "execution_count": 13,
     "metadata": {},
     "output_type": "execute_result"
    }
   ],
   "source": [
    "Person.species = \"Unknown\" \n",
    "nobody.species"
   ]
  },
  {
   "cell_type": "code",
   "execution_count": 14,
   "metadata": {},
   "outputs": [
    {
     "data": {
      "text/plain": [
       "'Homo internetus'"
      ]
     },
     "execution_count": 14,
     "metadata": {},
     "output_type": "execute_result"
    }
   ],
   "source": [
    "somebody.species"
   ]
  },
  {
   "cell_type": "code",
   "execution_count": 15,
   "metadata": {},
   "outputs": [
    {
     "data": {
      "text/plain": [
       "'Unknown'"
      ]
     },
     "execution_count": 15,
     "metadata": {},
     "output_type": "execute_result"
    }
   ],
   "source": [
    "Person.name = \"Unknown\" \n",
    "nobody.name"
   ]
  },
  {
   "cell_type": "code",
   "execution_count": 16,
   "metadata": {},
   "outputs": [
    {
     "data": {
      "text/plain": [
       "'Mark'"
      ]
     },
     "execution_count": 16,
     "metadata": {},
     "output_type": "execute_result"
    }
   ],
   "source": [
    "somebody.name"
   ]
  },
  {
   "cell_type": "code",
   "execution_count": 17,
   "metadata": {},
   "outputs": [],
   "source": [
    "del somebody.name "
   ]
  },
  {
   "cell_type": "code",
   "execution_count": 18,
   "metadata": {},
   "outputs": [
    {
     "data": {
      "text/plain": [
       "'Unknown'"
      ]
     },
     "execution_count": 18,
     "metadata": {},
     "output_type": "execute_result"
    }
   ],
   "source": [
    "somebody.name"
   ]
  },
  {
   "cell_type": "markdown",
   "metadata": {},
   "source": [
    "Although we could add a `name` to each instance just after creating it, one at a time, wouldn't it be nice to assign instance-specific attributes like that when the object is first constructed? \n",
    "\n",
    "The `__init__` function lets us do that. \n",
    "\n",
    "Except for the funny underscores in the name, it's just an ordinary function; we can even give it default arguments. "
   ]
  },
  {
   "cell_type": "code",
   "execution_count": 19,
   "metadata": {
    "collapsed": true
   },
   "outputs": [],
   "source": [
    "class Person(object): \n",
    "    species = \"Homo sapiens\" \n",
    "    \n",
    "    def __init__(self, name=\"Unknown\" , age=18): \n",
    "        self.name = name \n",
    "        self.age = age \n",
    "    \n",
    "    def talk(self): \n",
    "        return \"Hello, my name is {}.\".format(self.name)"
   ]
  },
  {
   "cell_type": "code",
   "execution_count": 20,
   "metadata": {
    "collapsed": true
   },
   "outputs": [],
   "source": [
    "mark = Person(\"Mark\" , 33 ) \n",
    "generic_voter = Person() \n",
    "generic_worker = Person(age=41)"
   ]
  },
  {
   "cell_type": "code",
   "execution_count": 21,
   "metadata": {},
   "outputs": [
    {
     "data": {
      "text/plain": [
       "41"
      ]
     },
     "execution_count": 21,
     "metadata": {},
     "output_type": "execute_result"
    }
   ],
   "source": [
    "generic_worker.age "
   ]
  },
  {
   "cell_type": "code",
   "execution_count": 22,
   "metadata": {},
   "outputs": [
    {
     "data": {
      "text/plain": [
       "'Unknown'"
      ]
     },
     "execution_count": 22,
     "metadata": {},
     "output_type": "execute_result"
    }
   ],
   "source": [
    "generic_worker.name"
   ]
  },
  {
   "cell_type": "markdown",
   "metadata": {},
   "source": [
    "In Python, it isn't unusual to access attributes of an object directly, unlike some languages (e.g. Java), where that is considered poor form and everything is done through getter and setter methods. \n",
    "\n",
    "This is because in Python, attributes can be added and removed at any time, so the getters and setters might be useless by the time that you want to use them. "
   ]
  },
  {
   "cell_type": "code",
   "execution_count": 23,
   "metadata": {
    "collapsed": true
   },
   "outputs": [],
   "source": [
    "mark.favorite_color = \"green\""
   ]
  },
  {
   "cell_type": "code",
   "execution_count": 24,
   "metadata": {
    "collapsed": true
   },
   "outputs": [],
   "source": [
    "del generic_worker.name"
   ]
  },
  {
   "cell_type": "code",
   "execution_count": 25,
   "metadata": {},
   "outputs": [
    {
     "ename": "AttributeError",
     "evalue": "'Person' object has no attribute 'name'",
     "output_type": "error",
     "traceback": [
      "\u001b[1;31m---------------------------------------------------------------------------\u001b[0m",
      "\u001b[1;31mAttributeError\u001b[0m                            Traceback (most recent call last)",
      "\u001b[1;32m<ipython-input-25-bd3502e1d858>\u001b[0m in \u001b[0;36m<module>\u001b[1;34m()\u001b[0m\n\u001b[1;32m----> 1\u001b[1;33m \u001b[0mgeneric_worker\u001b[0m\u001b[1;33m.\u001b[0m\u001b[0mname\u001b[0m\u001b[1;33m\u001b[0m\u001b[0m\n\u001b[0m",
      "\u001b[1;31mAttributeError\u001b[0m: 'Person' object has no attribute 'name'"
     ]
    }
   ],
   "source": [
    "generic_worker.name"
   ]
  },
  {
   "cell_type": "markdown",
   "metadata": {},
   "source": [
    "One potential downside is that Python has no real equivalent of private data and methods; everyone can see everything. \n",
    "\n",
    "There is a polite convention: other developers are supposed to treat an attribute as private if its name starts with a single underscore ( `_` ). \n",
    "\n",
    "And there is also a trick: names that start with two underscores ( `__` ) are mangled to make them harder to access."
   ]
  },
  {
   "cell_type": "markdown",
   "metadata": {},
   "source": [
    "The `__init__` method is just one of many that can help your class behave like a full-fledged built-in Python object. \n",
    "\n",
    "To control how your object is printed, implement `__str__` , and to control how it looks as an output from the interactive interpreter, implement `__repr__`. \n",
    "\n",
    "This time, we won't start from scratch; we'll add these dynamically."
   ]
  },
  {
   "cell_type": "code",
   "execution_count": 26,
   "metadata": {
    "collapsed": true
   },
   "outputs": [],
   "source": [
    "def person_str(self): \n",
    "    return \"Name: {0}, Age: {1}\".format(self.name, self.age) "
   ]
  },
  {
   "cell_type": "code",
   "execution_count": 27,
   "metadata": {
    "collapsed": true
   },
   "outputs": [],
   "source": [
    "Person.__str__ = person_str"
   ]
  },
  {
   "cell_type": "code",
   "execution_count": 28,
   "metadata": {
    "collapsed": true
   },
   "outputs": [],
   "source": [
    "def person_repr(self): \n",
    "    return \"Person('{0}',{1})\".format(self.name, self.age) "
   ]
  },
  {
   "cell_type": "code",
   "execution_count": 29,
   "metadata": {
    "collapsed": true
   },
   "outputs": [],
   "source": [
    "Person.__repr__ = person_repr"
   ]
  },
  {
   "cell_type": "code",
   "execution_count": 30,
   "metadata": {},
   "outputs": [
    {
     "name": "stdout",
     "output_type": "stream",
     "text": [
      "Name: Mark, Age: 33\n"
     ]
    }
   ],
   "source": [
    "print(mark) # which special method does print use? "
   ]
  },
  {
   "cell_type": "code",
   "execution_count": 31,
   "metadata": {},
   "outputs": [
    {
     "data": {
      "text/plain": [
       "Person('Mark',33)"
      ]
     },
     "execution_count": 31,
     "metadata": {},
     "output_type": "execute_result"
    }
   ],
   "source": [
    "mark # which special method does Jupyter use to auto-print? "
   ]
  },
  {
   "cell_type": "markdown",
   "metadata": {},
   "source": [
    "Take a minute to think about what just happened:\n",
    "\n",
    "- We added methods to a class after making a bunch of objects, but every object in that class was immediately able to use that method. \n",
    "\n",
    "- Because they were special methods, we could immediately use built-in Python functions (like str ) on those objects"
   ]
  },
  {
   "cell_type": "markdown",
   "metadata": {},
   "source": [
    "Be careful when implementing special methods. \n",
    "\n",
    "For instance, you might want the default sort of the `Person` class to be based on age. \n",
    "\n",
    "The special method `__lt__(self, other)` will be used by Python in place of the built-in `lt` function, even for sorting. (Python 2 uses `__cmp__` instead.) \n",
    "\n",
    "Even though it's easy, this is problematic because it makes objects appear to be equal when they are just of the same age! "
   ]
  },
  {
   "cell_type": "code",
   "execution_count": 32,
   "metadata": {
    "collapsed": true
   },
   "outputs": [],
   "source": [
    "def person_eq(self, other): \n",
    "    return self.age == other.age "
   ]
  },
  {
   "cell_type": "code",
   "execution_count": 33,
   "metadata": {},
   "outputs": [
    {
     "data": {
      "text/plain": [
       "True"
      ]
     },
     "execution_count": 33,
     "metadata": {},
     "output_type": "execute_result"
    }
   ],
   "source": [
    "Person.__eq__ = person_eq \n",
    "bob = Person(\"Bob\", 33) \n",
    "bob == mark"
   ]
  },
  {
   "cell_type": "markdown",
   "metadata": {},
   "source": [
    "In a situation like this, it might be better to implement a subset of the rich comparison methods, maybe just `__lt__` and `__gt__` , or use a more complicated `__eq__` function that is capable of uniquely identifying all the objects you will ever create."
   ]
  },
  {
   "cell_type": "markdown",
   "metadata": {},
   "source": [
    "While we've shown examples of adding methods to a class after the fact, note that it is rarely actually done that way in practice. \n",
    "\n",
    "Here we did that just for convenience of not having to re-define the class every time we wanted to create a new method. \n",
    "\n",
    "Normally you would just define all class methods under the class itself. \n",
    "\n",
    "If we were to do so with the `__str__` , `__repr__` , and `__eq__` methods for the Person class above, the class would like the below:"
   ]
  },
  {
   "cell_type": "code",
   "execution_count": 34,
   "metadata": {
    "collapsed": true
   },
   "outputs": [],
   "source": [
    "class Person (object): \n",
    "    species = \"Homo sapiens\" \n",
    "    def __init__(self, name=\"Unknown\", age=18): \n",
    "        self.name = name \n",
    "        self.age = age \n",
    "        \n",
    "    def talk(self): \n",
    "        return \"Hello, my name is {}.\".format(self.name) \n",
    "    \n",
    "    def __str__(self): \n",
    "        return \"Name : {0}, Age : {1}\".format(self.name, self.age) \n",
    "    \n",
    "    def __repr__(self): \n",
    "        return \"Person('{0}',{1})\".format(self.name, self.age) \n",
    "    \n",
    "    def __eq__(self, other): \n",
    "        return self.age == other.age "
   ]
  },
  {
   "cell_type": "markdown",
   "metadata": {},
   "source": [
    "##  Inheritance\n",
    "\n",
    "There are many types of people, and each type could be represented by its own class. \n",
    "\n",
    "It would be a pain if we had to reimplement the fundamental Person traits in each new class. \n",
    "Thankfully, **inheritance** gives us a way to avoid that. \n",
    "\n",
    "We've already seen how it works: `Person` inherits from (or is a subclass of) the object class. However, any class can be inherited from (i.e. have descendants)."
   ]
  },
  {
   "cell_type": "code",
   "execution_count": 35,
   "metadata": {
    "collapsed": true
   },
   "outputs": [],
   "source": [
    "class Student(Person): \n",
    "    bedtime = 'Midnight' \n",
    "    def do_homework(self): \n",
    "        import time \n",
    "        print(\"I need to work.\")\n",
    "        time.sleep(5)\n",
    "        print(\"Did I just fall asleep?\") "
   ]
  },
  {
   "cell_type": "code",
   "execution_count": 36,
   "metadata": {
    "collapsed": true
   },
   "outputs": [],
   "source": [
    "tyler = Student(\"Tyler\", 19)"
   ]
  },
  {
   "cell_type": "code",
   "execution_count": 37,
   "metadata": {},
   "outputs": [
    {
     "data": {
      "text/plain": [
       "'Homo sapiens'"
      ]
     },
     "execution_count": 37,
     "metadata": {},
     "output_type": "execute_result"
    }
   ],
   "source": [
    "tyler.species "
   ]
  },
  {
   "cell_type": "code",
   "execution_count": 38,
   "metadata": {},
   "outputs": [
    {
     "data": {
      "text/plain": [
       "'Hello, my name is Tyler.'"
      ]
     },
     "execution_count": 38,
     "metadata": {},
     "output_type": "execute_result"
    }
   ],
   "source": [
    "tyler.talk() "
   ]
  },
  {
   "cell_type": "code",
   "execution_count": 39,
   "metadata": {},
   "outputs": [
    {
     "name": "stdout",
     "output_type": "stream",
     "text": [
      "I need to work.\n",
      "Did I just fall asleep?\n"
     ]
    }
   ],
   "source": [
    "tyler.do_homework() "
   ]
  },
  {
   "cell_type": "markdown",
   "metadata": {},
   "source": [
    "An object from the subclass has all the properties of the parent class, along with any additions from its own class definition. \n",
    "\n",
    "You can still easy to override behavior from the parent class easily--just create a method with the same name in the subclass. \n",
    "\n",
    "Using the parent class's behavior in the child class is tricky, but fun, because you have to use the super function."
   ]
  },
  {
   "cell_type": "code",
   "execution_count": 40,
   "metadata": {
    "collapsed": true
   },
   "outputs": [],
   "source": [
    "class Employee(Person): \n",
    "    def talk(self): \n",
    "        talk_str = super(Employee, self).talk() \n",
    "        return talk_str + \" I work for {}\" .format(self.employer) "
   ]
  },
  {
   "cell_type": "code",
   "execution_count": 41,
   "metadata": {
    "collapsed": true
   },
   "outputs": [],
   "source": [
    "fred = Employee(\"Fred Flintstone\", 55) "
   ]
  },
  {
   "cell_type": "code",
   "execution_count": 42,
   "metadata": {
    "collapsed": true
   },
   "outputs": [],
   "source": [
    "fred.employer = \"Slate Rock and Gravel Company\" "
   ]
  },
  {
   "cell_type": "code",
   "execution_count": 43,
   "metadata": {},
   "outputs": [
    {
     "data": {
      "text/plain": [
       "'Hello, my name is Fred Flintstone. I work for Slate Rock and Gravel Company'"
      ]
     },
     "execution_count": 43,
     "metadata": {},
     "output_type": "execute_result"
    }
   ],
   "source": [
    "fred.talk()"
   ]
  },
  {
   "cell_type": "markdown",
   "metadata": {},
   "source": [
    "The syntax here is strange at first. \n",
    "\n",
    "The super function takes a class (i.e. a type) as its first argument, and an object descended from that class as its second argument. \n",
    "\n",
    "The object has a chain of ancestor classes. \n",
    "For `fred` , that chain is `[Employee, Person, object]`. \n",
    "\n",
    "The `super` function goes through that chain and returns the class that is after the one passed as the function's first argument. \n",
    "\n",
    "Therefore, `super` can be used to skip up the chain, passing modifications made in intermediate classes."
   ]
  },
  {
   "cell_type": "markdown",
   "metadata": {},
   "source": [
    "As a second, more common (but more complicated) example, it's often useful to add additional properties to subclass objects in the constructor. "
   ]
  },
  {
   "cell_type": "code",
   "execution_count": 44,
   "metadata": {
    "collapsed": true
   },
   "outputs": [],
   "source": [
    "class Employee(Person): \n",
    "    def __init__(self, name, age, employer): \n",
    "        super(Employee, self).__init__(name, age)         \n",
    "        self.employer = employer \n",
    "        \n",
    "    def talk(self): \n",
    "        talk_str = super(Employee, self).talk() \n",
    "        return talk_str + \" I work for {}\".format(self.employer) "
   ]
  },
  {
   "cell_type": "code",
   "execution_count": 45,
   "metadata": {},
   "outputs": [],
   "source": [
    "fred = Employee(\"Fred Flintstone\", 55, \"Slate Rock and Gravel Company\")"
   ]
  },
  {
   "cell_type": "code",
   "execution_count": 46,
   "metadata": {},
   "outputs": [
    {
     "data": {
      "text/plain": [
       "'Hello, my name is Fred Flintstone. I work for Slate Rock and Gravel Company'"
      ]
     },
     "execution_count": 46,
     "metadata": {},
     "output_type": "execute_result"
    }
   ],
   "source": [
    "fred.talk() "
   ]
  },
  {
   "cell_type": "markdown",
   "metadata": {},
   "source": [
    "A class in Python can have more than one listed ancestor (which is sometimes called polymorphism). \n",
    "\n",
    "We won't go into great detail here, aside from pointing out that it exists and is powerful but complicated. "
   ]
  },
  {
   "cell_type": "code",
   "execution_count": 47,
   "metadata": {
    "collapsed": true
   },
   "outputs": [],
   "source": [
    "class StudentEmployee(Student, Employee): \n",
    "    pass"
   ]
  },
  {
   "cell_type": "code",
   "execution_count": 48,
   "metadata": {},
   "outputs": [
    {
     "data": {
      "text/plain": [
       "'Hello, my name is Ann. I work for Family Services'"
      ]
     },
     "execution_count": 48,
     "metadata": {},
     "output_type": "execute_result"
    }
   ],
   "source": [
    "ann = StudentEmployee(\"Ann\", 58, \"Family Services\") \n",
    "ann.talk()"
   ]
  },
  {
   "cell_type": "code",
   "execution_count": 49,
   "metadata": {},
   "outputs": [
    {
     "ename": "TypeError",
     "evalue": "__init__() missing 1 required positional argument: 'employer'",
     "output_type": "error",
     "traceback": [
      "\u001b[1;31m---------------------------------------------------------------------------\u001b[0m",
      "\u001b[1;31mTypeError\u001b[0m                                 Traceback (most recent call last)",
      "\u001b[1;32m<ipython-input-49-9163eab6046e>\u001b[0m in \u001b[0;36m<module>\u001b[1;34m()\u001b[0m\n\u001b[1;32m----> 1\u001b[1;33m \u001b[0mbill\u001b[0m \u001b[1;33m=\u001b[0m \u001b[0mStudentEmployee\u001b[0m\u001b[1;33m(\u001b[0m\u001b[1;34m\"Bill\"\u001b[0m\u001b[1;33m,\u001b[0m \u001b[1;36m20\u001b[0m\u001b[1;33m)\u001b[0m \u001b[1;31m# what happens here? why?\u001b[0m\u001b[1;33m\u001b[0m\u001b[0m\n\u001b[0m",
      "\u001b[1;31mTypeError\u001b[0m: __init__() missing 1 required positional argument: 'employer'"
     ]
    }
   ],
   "source": [
    "bill = StudentEmployee(\"Bill\", 20) # what happens here? why? "
   ]
  },
  {
   "cell_type": "markdown",
   "metadata": {},
   "source": [
    "## Lesson exercises\n",
    "\n",
    "### Exercise  1\n",
    "\n",
    "Write a Query class that has the following attributes: \n",
    "- classification\n",
    "- justification\n",
    "- selector\n",
    "\n",
    "Provide default values for each attribute (consider using None ). \n",
    "\n",
    "Make it so that when you print it, you can display all of the attributes and their values nicely. "
   ]
  },
  {
   "cell_type": "code",
   "execution_count": 50,
   "metadata": {
    "collapsed": true
   },
   "outputs": [],
   "source": [
    "# your class definition here "
   ]
  },
  {
   "cell_type": "markdown",
   "metadata": {},
   "source": [
    " Afterwards, something like this should work: "
   ]
  },
  {
   "cell_type": "code",
   "execution_count": 51,
   "metadata": {},
   "outputs": [
    {
     "ename": "NameError",
     "evalue": "name 'Query' is not defined",
     "output_type": "error",
     "traceback": [
      "\u001b[1;31m---------------------------------------------------------------------------\u001b[0m",
      "\u001b[1;31mNameError\u001b[0m                                 Traceback (most recent call last)",
      "\u001b[1;32m<ipython-input-51-0bb9b72997b0>\u001b[0m in \u001b[0;36m<module>\u001b[1;34m()\u001b[0m\n\u001b[1;32m----> 1\u001b[1;33m \u001b[0mquery2\u001b[0m \u001b[1;33m=\u001b[0m \u001b[0mQuery\u001b[0m\u001b[1;33m(\u001b[0m\u001b[1;34m\"TE//ST//REL TO USA, FVEY\"\u001b[0m\u001b[1;33m,\u001b[0m \u001b[1;34m\"Primary email address of Zendian diplomat\"\u001b[0m \u001b[1;33m,\u001b[0m \u001b[1;34m\"ileona@stato.gov.zd\"\u001b[0m \u001b[1;33m)\u001b[0m\u001b[1;33m\u001b[0m\u001b[0m\n\u001b[0m\u001b[0;32m      2\u001b[0m \u001b[0mprint\u001b[0m\u001b[1;33m(\u001b[0m\u001b[0mquery2\u001b[0m\u001b[1;33m)\u001b[0m\u001b[1;33m\u001b[0m\u001b[0m\n",
      "\u001b[1;31mNameError\u001b[0m: name 'Query' is not defined"
     ]
    }
   ],
   "source": [
    "query2 = Query(\"TE//ST//REL TO USA, FVEY\", \"Primary email address of Zendian diplomat\" , \"ileona@stato.gov.zd\" ) \n",
    "print(query2)"
   ]
  },
  {
   "cell_type": "markdown",
   "metadata": {},
   "source": [
    "### Exercise 2 \n",
    "\n",
    "Make a RangedQuery class that inherits from Query and has the additional attributes:\n",
    "\n",
    "- begin date\n",
    "- end date\n",
    "\n",
    "For now, just make the dates of the form YYYY-MM-DD. Don’t worry about date formatting or error checking for now. We'll talk about the datetime module and exception handling later.\n",
    "\n",
    "Provide defaults for these attributes. Make sure you incorporate the Query class's initializer into the RangedQuery initializer. Ensure the new class can also be printed nicely."
   ]
  },
  {
   "cell_type": "code",
   "execution_count": 52,
   "metadata": {
    "collapsed": true
   },
   "outputs": [],
   "source": [
    "# your class definition here"
   ]
  },
  {
   "cell_type": "markdown",
   "metadata": {},
   "source": [
    "## Exercise 3 \n",
    "\n",
    "Change the Query class to accept a list of selectors rather than a single selector. \n",
    "\n",
    "Make sure you can still print everything OK. "
   ]
  }
 ],
 "metadata": {
  "kernelspec": {
   "display_name": "Python 3",
   "language": "python",
   "name": "python3"
  },
  "language_info": {
   "codemirror_mode": {
    "name": "ipython",
    "version": 3
   },
   "file_extension": ".py",
   "mimetype": "text/x-python",
   "name": "python",
   "nbconvert_exporter": "python",
   "pygments_lexer": "ipython3",
   "version": "3.6.2"
  },
  "toc": {
   "base_numbering": 1,
   "nav_menu": {},
   "number_sections": true,
   "sideBar": true,
   "skip_h1_title": false,
   "title_cell": "Table of Contents",
   "title_sidebar": "Contents",
   "toc_cell": false,
   "toc_position": {},
   "toc_section_display": true,
   "toc_window_display": false
  }
 },
 "nbformat": 4,
 "nbformat_minor": 2
}
