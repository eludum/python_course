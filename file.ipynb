{
 "cells": [
  {
   "cell_type": "code",
   "execution_count": 5,
   "metadata": {},
   "outputs": [],
   "source": [
    "myfile = open('first_file.csv', 'w')\n",
    "myfile.write('name;surname')\n",
    "myfile.write('\\nmehmet;kose')\n",
    "myfile.close()"
   ]
  },
  {
   "cell_type": "code",
   "execution_count": 6,
   "metadata": {},
   "outputs": [
    {
     "name": "stdout",
     "output_type": "stream",
     "text": [
      "name;surname\n",
      "mehmet;kose\n"
     ]
    }
   ],
   "source": [
    "myfile = open('first_file.csv', 'r')\n",
    "print(myfile.read())"
   ]
  },
  {
   "cell_type": "code",
   "execution_count": 10,
   "metadata": {},
   "outputs": [
    {
     "name": "stdout",
     "output_type": "stream",
     "text": [
      "name;surname\n",
      "\n",
      "mehmet;kose\n",
      "[['name', 'surname'], ['mehmet', 'kose']]\n"
     ]
    }
   ],
   "source": [
    "myfile = open('first_file.csv', 'r')\n",
    "\n",
    "data = []\n",
    "\n",
    "for line in myfile:\n",
    "    data.append(line.strip().split(';'))\n",
    "    print(line)\n",
    "\n",
    "print(data)"
   ]
  }
 ],
 "metadata": {
  "interpreter": {
   "hash": "e7370f93d1d0cde622a1f8e1c04877d8463912d04d973331ad4851f04de6915a"
  },
  "kernelspec": {
   "display_name": "Python 3.10.2 64-bit",
   "language": "python",
   "name": "python3"
  },
  "language_info": {
   "codemirror_mode": {
    "name": "ipython",
    "version": 3
   },
   "file_extension": ".py",
   "mimetype": "text/x-python",
   "name": "python",
   "nbconvert_exporter": "python",
   "pygments_lexer": "ipython3",
   "version": "3.10.2"
  },
  "orig_nbformat": 4
 },
 "nbformat": 4,
 "nbformat_minor": 2
}
